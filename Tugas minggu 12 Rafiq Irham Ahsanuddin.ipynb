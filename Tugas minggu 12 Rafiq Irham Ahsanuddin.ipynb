{
  "nbformat": 4,
  "nbformat_minor": 0,
  "metadata": {
    "colab": {
      "name": "Untitled1.ipynb",
      "provenance": [],
      "authorship_tag": "ABX9TyMn0CuFWnRTJGnAWCPbI07a",
      "include_colab_link": true
    },
    "kernelspec": {
      "name": "python3",
      "display_name": "Python 3"
    }
  },
  "cells": [
    {
      "cell_type": "markdown",
      "metadata": {
        "id": "view-in-github",
        "colab_type": "text"
      },
      "source": [
        "<a href=\"https://colab.research.google.com/github/rafiqirhm/pemrograman_python/blob/main/Tugas%20minggu%2012%20Rafiq%20Irham%20Ahsanuddin.ipynb\" target=\"_parent\"><img src=\"https://colab.research.google.com/assets/colab-badge.svg\" alt=\"Open In Colab\"/></a>"
      ]
    },
    {
      "cell_type": "code",
      "metadata": {
        "id": "qMJ3uiuzpt3P"
      },
      "source": [
        "import numpy as np"
      ],
      "execution_count": 1,
      "outputs": []
    },
    {
      "cell_type": "code",
      "metadata": {
        "id": "7jA5eelNp6Qy"
      },
      "source": [
        "#tinggi antenna penerima\r\n",
        "hr = 20"
      ],
      "execution_count": 3,
      "outputs": []
    },
    {
      "cell_type": "code",
      "metadata": {
        "colab": {
          "base_uri": "https://localhost:8080/"
        },
        "id": "3fOyxDbGp8P1",
        "outputId": "9af91234-83a2-4804-c800-110346e42d9a"
      },
      "source": [
        "a=(1.1*np.log(1000)-0.7)*20-(1.56*np.log(1000)-0.8)\r\n",
        "print(a)"
      ],
      "execution_count": 4,
      "outputs": [
        {
          "output_type": "stream",
          "text": [
            "127.99451790239488\n"
          ],
          "name": "stdout"
        }
      ]
    },
    {
      "cell_type": "code",
      "metadata": {
        "id": "vRkNxxXKp_M7"
      },
      "source": [
        "#Urban\r\n",
        "Cm = 0"
      ],
      "execution_count": 5,
      "outputs": []
    },
    {
      "cell_type": "code",
      "metadata": {
        "id": "zdNGRzA9qByn"
      },
      "source": [
        "#tinggi antenna\r\n",
        "Ht = 90"
      ],
      "execution_count": 6,
      "outputs": []
    },
    {
      "cell_type": "code",
      "metadata": {
        "id": "pRJ4phK9qDzF"
      },
      "source": [
        "#Frekuensi dalam Fc\r\n",
        "Fc = 1000"
      ],
      "execution_count": 7,
      "outputs": []
    },
    {
      "cell_type": "code",
      "metadata": {
        "id": "T8b5c8OwqEaM"
      },
      "source": [
        "#Frekuensi \r\n",
        "F = 500"
      ],
      "execution_count": 8,
      "outputs": []
    },
    {
      "cell_type": "code",
      "metadata": {
        "id": "LpzzLFqlqGPR"
      },
      "source": [
        "#Suburban\r\n",
        "Cms = -2*(np.log(1000/28))**2-5.4"
      ],
      "execution_count": 9,
      "outputs": []
    },
    {
      "cell_type": "code",
      "metadata": {
        "id": "kmbb2FV7qIL9"
      },
      "source": [
        "#Jarak\r\n",
        "d = 2"
      ],
      "execution_count": 10,
      "outputs": []
    },
    {
      "cell_type": "code",
      "metadata": {
        "colab": {
          "base_uri": "https://localhost:8080/"
        },
        "id": "xaaXaL4LqNyA",
        "outputId": "987beb56-abf9-4ede-992b-de44bd0f7d55"
      },
      "source": [
        "PL = 46.3 + 33.9*np.log(Fc) - 13.83*np.log (Ht) + (44.9 - 6.55*np.log(Ht))*np.log(d) + Cms\r\n",
        "print(PL)"
      ],
      "execution_count": 11,
      "outputs": [
        {
          "output_type": "stream",
          "text": [
            "197.96406899473675\n"
          ],
          "name": "stdout"
        }
      ]
    },
    {
      "cell_type": "code",
      "metadata": {
        "id": "h_W1sfXYqQRb"
      },
      "source": [
        "Ntl = lambda x: 10*np.log10(x)"
      ],
      "execution_count": 12,
      "outputs": []
    },
    {
      "cell_type": "code",
      "metadata": {
        "colab": {
          "base_uri": "https://localhost:8080/"
        },
        "id": "Hn-rVVBvqSWX",
        "outputId": "d6c4080c-97b8-4db5-ebcc-52a7d6a5642a"
      },
      "source": [
        "z=Ntl(197.96406899473675)\r\n",
        "print(z)"
      ],
      "execution_count": 13,
      "outputs": [
        {
          "output_type": "stream",
          "text": [
            "22.965863718101623\n"
          ],
          "name": "stdout"
        }
      ]
    },
    {
      "cell_type": "code",
      "metadata": {
        "colab": {
          "base_uri": "https://localhost:8080/"
        },
        "id": "_AGhvnhsqUdS",
        "outputId": "b7538b62-5ad3-4f48-96ff-8536963c569e"
      },
      "source": [
        "PL = 46.3 + 33.9*np.log(Fc) - 13.83*np.log (Ht) + (44.9 - 6.55*np.log(Ht))*np.log(d) + Cm\r\n",
        "print(PL)"
      ],
      "execution_count": 14,
      "outputs": [
        {
          "output_type": "stream",
          "text": [
            "228.93319559536843\n"
          ],
          "name": "stdout"
        }
      ]
    },
    {
      "cell_type": "code",
      "metadata": {
        "colab": {
          "base_uri": "https://localhost:8080/"
        },
        "id": "z-VuzSfmqWE1",
        "outputId": "f6cb0197-deaf-45b1-d584-1cbab010f9b4"
      },
      "source": [
        "z=Ntl(PL)\r\n",
        "print(z)"
      ],
      "execution_count": 15,
      "outputs": [
        {
          "output_type": "stream",
          "text": [
            "23.59708770475436\n"
          ],
          "name": "stdout"
        }
      ]
    }
  ]
}